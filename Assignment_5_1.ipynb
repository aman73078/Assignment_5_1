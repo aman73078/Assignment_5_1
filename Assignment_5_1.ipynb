{
 "cells": [
  {
   "cell_type": "code",
   "execution_count": 7,
   "id": "e059f360-8bd9-4144-98e1-0bcb51429f28",
   "metadata": {},
   "outputs": [],
   "source": [
    "# Q1. What is an Exceptions in python? Write the difference between Exceptions and Syntax error."
   ]
  },
  {
   "cell_type": "code",
   "execution_count": 8,
   "id": "aefb7150-796d-45a2-bd57-cf84982226ee",
   "metadata": {},
   "outputs": [],
   "source": [
    "# Ans- An Exception is an error that happens during the execution of a program. Whenever there is an error, \n",
    "#      Python generates an exception that could be handled. It basically prevents the program from getting \n",
    "#      crashed.\n",
    "\n",
    "#      Difference between Exceptions and Syntax error:- \n",
    "#                                                       An Exception is an event that occurs during the program \n",
    "#              execution and disrupts the normal flow of the program's execution. Errors mostly happen at \n",
    "#              compile-time like syntax error; however it can happen at runtime as well. Whereas an Exception \n",
    "#              occurs at runtime (checked exceptions can be detected at compile time)."
   ]
  },
  {
   "cell_type": "code",
   "execution_count": 9,
   "id": "4af83407-1af3-4505-bd2e-2ea25a52c0e1",
   "metadata": {},
   "outputs": [],
   "source": [
    "# Q2. What happens when an Exception is not handled? Explain with an example."
   ]
  },
  {
   "cell_type": "code",
   "execution_count": 1,
   "id": "49914fc0-6141-42c0-a478-5c5eb53298c0",
   "metadata": {},
   "outputs": [
    {
     "name": "stdin",
     "output_type": "stream",
     "text": [
      "Enter any number :  7\n"
     ]
    }
   ],
   "source": [
    "# Ans- If an exception is not handled (with a catch block), the runtime system will abort the program \n",
    "#      (i.e. crash) and an exception message will print to the console. The message typically includes: name of\n",
    "#      exception type. short description.\n",
    "\n",
    "# Example:-\n",
    "\n",
    "import logging\n",
    "\n",
    "logging.basicConfig(filename=\"data1.log\", level=logging.INFO, format=\"%(asctime)s %(name)s %(levelname)s %(message)s\")\n",
    "\n",
    "logging.info(\"Here, we are just trying to show an example that when an Exception does not handle\")\n",
    "try:\n",
    "    num = input(\"Enter any number : \")\n",
    "    if num % 2 == 0:\n",
    "        print(\"Number is Even\")\n",
    "    else:\n",
    "        print(\"Number is Odd\")\n",
    "except Exception as e:\n",
    "    logging.error(\"Exception : {}\".format(e))\n"
   ]
  },
  {
   "cell_type": "code",
   "execution_count": 1,
   "id": "7c0e79a8-4490-4bd6-8118-8796a7b41217",
   "metadata": {},
   "outputs": [
    {
     "name": "stdin",
     "output_type": "stream",
     "text": [
      "Enter any number 33\n"
     ]
    }
   ],
   "source": [
    "                                           # or\n",
    "import logging\n",
    "\n",
    "logging.basicConfig(filename=\"data2.log\", level=logging.INFO, format=\"%(asctime)s %(levelname)s %(message)s\" )\n",
    "\n",
    "try:\n",
    "    num = int(input(\"Enter any number\"))\n",
    "    for i in num:\n",
    "        if num % i == 0:\n",
    "            count += 1\n",
    "    if count == 2:\n",
    "        print(\"Number is Prime\")\n",
    "    else:\n",
    "        print(\"Number is Composite\")\n",
    "        \n",
    "except Exception as e:\n",
    "    logging.info(\"Exception : {}\".format(e) )"
   ]
  },
  {
   "cell_type": "code",
   "execution_count": 3,
   "id": "8c9e9338-c776-43cc-8757-9e2a393cf17e",
   "metadata": {},
   "outputs": [],
   "source": [
    "# Q3. Which python statements are used to catch and handle Exceptions? Explain with an example."
   ]
  },
  {
   "cell_type": "code",
   "execution_count": 1,
   "id": "fde5abb5-9623-4138-98aa-ee8efea3c705",
   "metadata": {},
   "outputs": [],
   "source": [
    "# Ans- The try and except block in Python is used to catch and handle exceptions. Python executes code following\n",
    "#      the try statement as a “normal” part of the program. The code that follows the except statement is the \n",
    "#      program's response to any exceptions in the preceding try clause.\n",
    "\n",
    "# Example:-\n",
    "\n",
    "import logging\n",
    "\n",
    "logging.basicConfig(filename=\"data3.log\", level=logging.INFO, format=\"%(asctime)s %(levelname)s %(message)s \")\n",
    "\n",
    "logging.info(\"This program is finding the square of list's number\")\n",
    "try:\n",
    "    num_list = [1,2,3,5,6,7,8]\n",
    "    square_list = []\n",
    "    for i in num_list:\n",
    "        square_list.append(i**2)\n",
    "    logging.info(\"Square list is : {l}\".format(l = square_list))\n",
    "except Exception as e:\n",
    "    logging.info(\"This block has been Executed and Exception : {}\".format(e))\n",
    "    "
   ]
  },
  {
   "cell_type": "code",
   "execution_count": 4,
   "id": "cf7ddb91-4308-4011-9f06-749a10c656e1",
   "metadata": {},
   "outputs": [],
   "source": [
    "# Q4. Explain with an example:\n",
    "#     a. try and else\n",
    "#     b. finally\n",
    "#     c. raise"
   ]
  },
  {
   "cell_type": "code",
   "execution_count": 1,
   "id": "8ebcd60d-8fec-48de-bc15-edbcd17fdd79",
   "metadata": {},
   "outputs": [
    {
     "name": "stdin",
     "output_type": "stream",
     "text": [
      "Enter any number 7\n"
     ]
    }
   ],
   "source": [
    "# Ans-\n",
    "\n",
    "# Example:-\n",
    "\n",
    "import logging\n",
    "\n",
    "logging.basicConfig(filename=\"data4.log\", level= logging.INFO, format= \"%(asctime)s %(levelname)s %(message)s\")\n",
    "\n",
    "class even_odd(Exception):\n",
    "    \n",
    "    def __init__(self, num):\n",
    "        self.num = num\n",
    "\n",
    "logging.info(\"Here defined a function that helps in Custom Exceptions\")\n",
    "def even_odd_test(num):\n",
    "    if num % 2 == 0:\n",
    "        raise even_odd(\"Number is Even\")\n",
    "    else:\n",
    "        raise even_odd(\"Number is Odd\")\n",
    "\n",
    "try:\n",
    "    logging.info(\"here assign a number to check it is even or odd\")\n",
    "    num = int(input(\"Enter any number\"))\n",
    "    even_odd_test(num)\n",
    "except Exception as e :\n",
    "    logging.info(\"this block has been executed and the exception : {}\".format(e))\n",
    "else:\n",
    "    logging.info(\"Number is {}\".format(num))\n",
    "    \n",
    "finally:\n",
    "    logging.info(\"This program is telling about the number that is even or odd\")"
   ]
  },
  {
   "cell_type": "code",
   "execution_count": 5,
   "id": "75984707-d873-4d04-9427-c0961a82edef",
   "metadata": {},
   "outputs": [],
   "source": [
    "# Q5. What are Custom Exception in python? Why do you need Custom Exceptions? Explain with an example."
   ]
  },
  {
   "cell_type": "code",
   "execution_count": 4,
   "id": "1331d81c-76d8-4bae-bd1b-17b240e94188",
   "metadata": {},
   "outputs": [],
   "source": [
    "# Ans- A Python custom exception is a user-defined exception that is created by the programmer to handle \n",
    "#      specific error scenarios in a program. Python allows you to create your custom exception by subclassing \n",
    "#      the built-in Exception class or any of its subclasses. When a custom exception is raised, it behaves \n",
    "#      like any other exception in Python, triggering an error message and terminating the program if it is not \n",
    "#      handled properly.\n",
    "#      We need Custom Exception for Readability and Maintainability, Error Handling, Enhanced Code \n",
    "#      Documentation, Precise Error Reporting.\n",
    "\n",
    "# Example:-"
   ]
  },
  {
   "cell_type": "code",
   "execution_count": 1,
   "id": "c07ccd22-9de3-4b66-914d-f10322517474",
   "metadata": {},
   "outputs": [
    {
     "name": "stdin",
     "output_type": "stream",
     "text": [
      "Enter your number :  78\n"
     ]
    }
   ],
   "source": [
    "import logging\n",
    "logging.basicConfig(filename=\"data5.log\", level=logging.INFO, format= \"%(asctime)s %(levelname)s %(message)s \")\n",
    "\n",
    "logging.info(\"This is an example of Custom Exception\")\n",
    "class entrance_exam(Exception):\n",
    "    \n",
    "    def __init__(self, test_num):\n",
    "        self.test_num = test_num\n",
    "        \n",
    "logging.info(\"Here, we put our number then number will match to all conditions\")\n",
    "def entrance_exam_result(test_num):\n",
    "    if ( test_num <= 33 ):\n",
    "        raise entrance_exam(\"You are fail \")\n",
    "    elif ( 33 < test_num <= 50):\n",
    "        raise entrance_exam(\"You are eligible to take admission in Section : 'C' \" )\n",
    "    elif ( 50 < test_num <= 80 ):\n",
    "        raise entrance_exam(\"You are eligible to take admission in Section : 'B' \" )\n",
    "    elif ( 80 < test_num <= 100 ):\n",
    "        raise entrance_exam(\"You are eligible to take admission in Section : 'A' \" )\n",
    "\n",
    "logging.info(\"When the condition is matched then print\")\n",
    "try:\n",
    "    test_num = int(input(\"Enter your number : \"))\n",
    "    logging.info(\"Enterd entrance exam number : {}\".format(test_num))\n",
    "    entrance_exam_result(test_num)\n",
    "except Exception as e:\n",
    "    logging.info(\"This block has been Executed and Exception : {}\".format(e))"
   ]
  },
  {
   "cell_type": "code",
   "execution_count": 6,
   "id": "06e1e06c-2bbe-4191-9a43-9378cd34fe70",
   "metadata": {},
   "outputs": [],
   "source": [
    "# Q6. Create a Custom Exception class. Use this class to handle an Exception."
   ]
  },
  {
   "cell_type": "code",
   "execution_count": 1,
   "id": "6b4ea6cf-3a41-4aa2-a559-afa2157e7b6b",
   "metadata": {},
   "outputs": [
    {
     "name": "stdin",
     "output_type": "stream",
     "text": [
      "Enter your age :  29\n"
     ]
    }
   ],
   "source": [
    "# Ans-\n",
    "\n",
    "import logging\n",
    "logging.basicConfig(filename=\"data6.log\", level=logging.INFO, format= \"%(asctime)s %(levelname)s %(message)s \")\n",
    "\n",
    "logging.info(\"This is an example of Custom Exception\")\n",
    "class voter(Exception):\n",
    "    \n",
    "    def __init__(self, age):\n",
    "        self.age = age\n",
    "\n",
    "logging.info(\"Here, we define a function that have age and check all the conditions \")\n",
    "def voter_age(age):\n",
    "    if age < 18 :\n",
    "        raise voter(\"You are not eligible to cast vote because you are below 18\")\n",
    "    else:\n",
    "        raise voter(\"You are eligible to cast vote\")\n",
    "        \n",
    "\n",
    "try:\n",
    "    age = int(input(\"Enter your age : \"))\n",
    "    logging.info(\"Entered age : {}\".format(age))\n",
    "    voter_age(age)\n",
    "except voter as e:\n",
    "    logging.info(\"This block has been Executed and Exception : {}\".format(e))\n",
    "    "
   ]
  },
  {
   "cell_type": "code",
   "execution_count": null,
   "id": "53212637-be9d-46fa-9ce7-584dd79beef4",
   "metadata": {},
   "outputs": [],
   "source": []
  }
 ],
 "metadata": {
  "kernelspec": {
   "display_name": "Python 3 (ipykernel)",
   "language": "python",
   "name": "python3"
  },
  "language_info": {
   "codemirror_mode": {
    "name": "ipython",
    "version": 3
   },
   "file_extension": ".py",
   "mimetype": "text/x-python",
   "name": "python",
   "nbconvert_exporter": "python",
   "pygments_lexer": "ipython3",
   "version": "3.10.8"
  },
  "toc-autonumbering": false,
  "toc-showcode": false,
  "toc-showmarkdowntxt": false,
  "toc-showtags": false
 },
 "nbformat": 4,
 "nbformat_minor": 5
}
